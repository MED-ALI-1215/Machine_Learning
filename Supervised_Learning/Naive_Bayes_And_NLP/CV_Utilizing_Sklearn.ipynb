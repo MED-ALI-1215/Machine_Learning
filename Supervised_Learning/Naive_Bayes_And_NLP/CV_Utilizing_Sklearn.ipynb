{
 "cells": [
  {
   "cell_type": "code",
   "execution_count": 1,
   "id": "f3e7b2d3-f09b-4ac7-8747-e856e9e7f5e1",
   "metadata": {},
   "outputs": [],
   "source": [
    "text = ['this is a line','this is an other line','complitly different line']"
   ]
  },
  {
   "cell_type": "code",
   "execution_count": 2,
   "id": "ecec9e50-a4a0-4457-96a7-23182e06c139",
   "metadata": {},
   "outputs": [],
   "source": [
    "from sklearn.feature_extraction.text import CountVectorizer"
   ]
  },
  {
   "cell_type": "code",
   "execution_count": 3,
   "id": "dff1cf13-4c9f-4a0d-8001-c55015febc59",
   "metadata": {},
   "outputs": [],
   "source": [
    "cv = CountVectorizer()"
   ]
  },
  {
   "cell_type": "code",
   "execution_count": 4,
   "id": "62c59030-39b6-459e-bc12-51f08f33730e",
   "metadata": {},
   "outputs": [],
   "source": [
    "sparce_matrix  =  cv.fit_transform(text)"
   ]
  },
  {
   "cell_type": "code",
   "execution_count": 5,
   "id": "b9911cee-e103-418e-a2eb-b909e4be9c67",
   "metadata": {},
   "outputs": [
    {
     "data": {
      "text/plain": [
       "<3x7 sparse matrix of type '<class 'numpy.int64'>'\n",
       "\twith 11 stored elements in Compressed Sparse Row format>"
      ]
     },
     "execution_count": 5,
     "metadata": {},
     "output_type": "execute_result"
    }
   ],
   "source": [
    "sparce_matrix"
   ]
  },
  {
   "cell_type": "code",
   "execution_count": 6,
   "id": "15a61708-9fd2-4d51-80ad-0b235865e2c5",
   "metadata": {},
   "outputs": [
    {
     "data": {
      "text/plain": [
       "matrix([[0, 0, 0, 1, 1, 0, 1],\n",
       "        [1, 0, 0, 1, 1, 1, 1],\n",
       "        [0, 1, 1, 0, 1, 0, 0]], dtype=int64)"
      ]
     },
     "execution_count": 6,
     "metadata": {},
     "output_type": "execute_result"
    }
   ],
   "source": [
    "sparce_matrix.todense()"
   ]
  },
  {
   "cell_type": "code",
   "execution_count": 7,
   "id": "42ddf16f-73ef-4355-8b3b-7e8615cfc13d",
   "metadata": {},
   "outputs": [],
   "source": [
    "cv_2 = CountVectorizer(stop_words='english') "
   ]
  },
  {
   "cell_type": "code",
   "execution_count": 8,
   "id": "95fb1148-a57d-4869-a12c-76de24abf76b",
   "metadata": {},
   "outputs": [],
   "source": [
    "sparce_matrix_2 = cv_2.fit_transform(text)"
   ]
  },
  {
   "cell_type": "code",
   "execution_count": 9,
   "id": "6209e7b1-c913-4cb1-9260-deaaafb0123e",
   "metadata": {},
   "outputs": [
    {
     "data": {
      "text/plain": [
       "matrix([[0, 0, 1],\n",
       "        [0, 0, 1],\n",
       "        [1, 1, 1]], dtype=int64)"
      ]
     },
     "execution_count": 9,
     "metadata": {},
     "output_type": "execute_result"
    }
   ],
   "source": [
    "sparce_matrix_2.todense()"
   ]
  },
  {
   "cell_type": "code",
   "execution_count": 10,
   "id": "562f6817-b595-4e41-8b34-c53c6b40178f",
   "metadata": {},
   "outputs": [
    {
     "data": {
      "text/plain": [
       "{'line': 2, 'complitly': 0, 'different': 1}"
      ]
     },
     "execution_count": 10,
     "metadata": {},
     "output_type": "execute_result"
    }
   ],
   "source": [
    "cv_2.vocabulary_"
   ]
  },
  {
   "cell_type": "code",
   "execution_count": 11,
   "id": "00e0e488-0193-496c-8adc-2d3070045dda",
   "metadata": {},
   "outputs": [
    {
     "data": {
      "text/plain": [
       "{'this': 6,\n",
       " 'is': 3,\n",
       " 'line': 4,\n",
       " 'an': 0,\n",
       " 'other': 5,\n",
       " 'complitly': 1,\n",
       " 'different': 2}"
      ]
     },
     "execution_count": 11,
     "metadata": {},
     "output_type": "execute_result"
    }
   ],
   "source": [
    "cv.vocabulary_"
   ]
  },
  {
   "cell_type": "code",
   "execution_count": 12,
   "id": "af8cd4ed-1ebd-4962-b9f4-722c443e673e",
   "metadata": {},
   "outputs": [],
   "source": [
    "from sklearn.feature_extraction.text import TfidfTransformer"
   ]
  },
  {
   "cell_type": "code",
   "execution_count": 13,
   "id": "4ea5724d-8f27-4e88-8cad-a712eaa57854",
   "metadata": {},
   "outputs": [],
   "source": [
    "rfidft = TfidfTransformer()"
   ]
  },
  {
   "cell_type": "code",
   "execution_count": 15,
   "id": "4f89205e-c4ee-4d1c-a11d-48a6b520d749",
   "metadata": {},
   "outputs": [],
   "source": [
    "test =  rfidft.fit_transform(sparce_matrix)"
   ]
  },
  {
   "cell_type": "code",
   "execution_count": 16,
   "id": "249f36f4-f8ab-41dc-96ad-3037c9d8a826",
   "metadata": {},
   "outputs": [
    {
     "data": {
      "text/plain": [
       "matrix([[0.        , 0.        , 0.        , 0.61980538, 0.48133417,\n",
       "         0.        , 0.61980538],\n",
       "        [0.53409337, 0.        , 0.        , 0.40619178, 0.31544415,\n",
       "         0.53409337, 0.40619178],\n",
       "        [0.        , 0.65249088, 0.65249088, 0.        , 0.38537163,\n",
       "         0.        , 0.        ]])"
      ]
     },
     "execution_count": 16,
     "metadata": {},
     "output_type": "execute_result"
    }
   ],
   "source": [
    "test.todense()"
   ]
  },
  {
   "cell_type": "code",
   "execution_count": 17,
   "id": "d2ca6091-f0df-4182-b7a5-9224abc3b84b",
   "metadata": {},
   "outputs": [],
   "source": [
    "# we can do that directly without calling vectorizing than transformer :"
   ]
  },
  {
   "cell_type": "code",
   "execution_count": 18,
   "id": "518a6e69-5dc2-4cfa-b228-0ba82041bbe3",
   "metadata": {},
   "outputs": [],
   "source": [
    "from sklearn.feature_extraction.text import TfidfVectorizer"
   ]
  },
  {
   "cell_type": "code",
   "execution_count": 19,
   "id": "9b03a514-1e69-42d6-9af6-b1ab899af82a",
   "metadata": {},
   "outputs": [],
   "source": [
    "tfidv = TfidfVectorizer()"
   ]
  },
  {
   "cell_type": "code",
   "execution_count": 20,
   "id": "a81867f1-a73c-4a5a-8b61-a041bda1f6d1",
   "metadata": {},
   "outputs": [],
   "source": [
    "result =  tfidv.fit_transform(text)"
   ]
  },
  {
   "cell_type": "code",
   "execution_count": 21,
   "id": "d025323d-0009-4f7b-9c87-921f35c2c646",
   "metadata": {},
   "outputs": [
    {
     "data": {
      "text/plain": [
       "matrix([[0.        , 0.        , 0.        , 0.61980538, 0.48133417,\n",
       "         0.        , 0.61980538],\n",
       "        [0.53409337, 0.        , 0.        , 0.40619178, 0.31544415,\n",
       "         0.53409337, 0.40619178],\n",
       "        [0.        , 0.65249088, 0.65249088, 0.        , 0.38537163,\n",
       "         0.        , 0.        ]])"
      ]
     },
     "execution_count": 21,
     "metadata": {},
     "output_type": "execute_result"
    }
   ],
   "source": [
    "result.todense()"
   ]
  },
  {
   "cell_type": "code",
   "execution_count": null,
   "id": "61ea4867-c29b-480f-a07a-a0a914638270",
   "metadata": {},
   "outputs": [],
   "source": []
  }
 ],
 "metadata": {
  "kernelspec": {
   "display_name": "Python 3 (ipykernel)",
   "language": "python",
   "name": "python3"
  },
  "language_info": {
   "codemirror_mode": {
    "name": "ipython",
    "version": 3
   },
   "file_extension": ".py",
   "mimetype": "text/x-python",
   "name": "python",
   "nbconvert_exporter": "python",
   "pygments_lexer": "ipython3",
   "version": "3.9.20"
  }
 },
 "nbformat": 4,
 "nbformat_minor": 5
}
