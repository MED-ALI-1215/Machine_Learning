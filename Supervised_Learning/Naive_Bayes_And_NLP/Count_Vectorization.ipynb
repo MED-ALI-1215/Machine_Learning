{
 "cells": [
  {
   "cell_type": "code",
   "execution_count": 1,
   "id": "75b3e10f-da60-42fc-b6e9-a3796aaeda0f",
   "metadata": {},
   "outputs": [],
   "source": [
    "with open (r'C:\\Users\\lenovo\\Desktop\\Notebooks\\18-Naive-Bayes-and-NLP\\One.txt') as mytext :\n",
    "    words_one = mytext.read().lower().split()\n",
    "    unique_words_one =set(words_one)"
   ]
  },
  {
   "cell_type": "code",
   "execution_count": 2,
   "id": "52edc642-c5ad-452e-8a54-6ec3a65ca655",
   "metadata": {},
   "outputs": [
    {
     "data": {
      "text/plain": [
       "{'a',\n",
       " 'about',\n",
       " 'animals',\n",
       " 'are',\n",
       " 'canine',\n",
       " 'dogs',\n",
       " 'furry',\n",
       " 'is',\n",
       " 'our',\n",
       " 'pets',\n",
       " 'story',\n",
       " 'this'}"
      ]
     },
     "execution_count": 2,
     "metadata": {},
     "output_type": "execute_result"
    }
   ],
   "source": [
    "unique_words_one"
   ]
  },
  {
   "cell_type": "code",
   "execution_count": 3,
   "id": "fbfa0467-58d1-433c-b1c8-3025de5f773b",
   "metadata": {},
   "outputs": [],
   "source": [
    "with open (r'C:\\Users\\lenovo\\Desktop\\Notebooks\\18-Naive-Bayes-and-NLP\\Two.txt') as mytext :\n",
    "    words_two = mytext.read().lower().split()\n",
    "    unique_words_two =set(words_two)"
   ]
  },
  {
   "cell_type": "code",
   "execution_count": 4,
   "id": "bcb827ce-8fe1-4455-a90a-ca620e08b698",
   "metadata": {},
   "outputs": [
    {
     "data": {
      "text/plain": [
       "{'a',\n",
       " 'about',\n",
       " 'catching',\n",
       " 'fun',\n",
       " 'is',\n",
       " 'popular',\n",
       " 'sport',\n",
       " 'story',\n",
       " 'surfing',\n",
       " 'this',\n",
       " 'water',\n",
       " 'waves'}"
      ]
     },
     "execution_count": 4,
     "metadata": {},
     "output_type": "execute_result"
    }
   ],
   "source": [
    "unique_words_two"
   ]
  },
  {
   "cell_type": "code",
   "execution_count": 5,
   "id": "acb17c19-44ec-409b-96c0-055c346dcbf2",
   "metadata": {},
   "outputs": [],
   "source": [
    "all_unique_word = set()\n",
    "all_unique_word.update(unique_words_one)"
   ]
  },
  {
   "cell_type": "code",
   "execution_count": 6,
   "id": "f61ae492-e453-4030-b959-c947511a289c",
   "metadata": {},
   "outputs": [
    {
     "data": {
      "text/plain": [
       "{'a',\n",
       " 'about',\n",
       " 'animals',\n",
       " 'are',\n",
       " 'canine',\n",
       " 'dogs',\n",
       " 'furry',\n",
       " 'is',\n",
       " 'our',\n",
       " 'pets',\n",
       " 'story',\n",
       " 'this'}"
      ]
     },
     "execution_count": 6,
     "metadata": {},
     "output_type": "execute_result"
    }
   ],
   "source": [
    "all_unique_word"
   ]
  },
  {
   "cell_type": "code",
   "execution_count": 7,
   "id": "9da83c9d-2643-4419-9c9a-1b4b8b70c208",
   "metadata": {},
   "outputs": [],
   "source": [
    "all_unique_word.update(unique_words_two)"
   ]
  },
  {
   "cell_type": "code",
   "execution_count": 8,
   "id": "e3653d82-08f5-41b7-aa2b-d524f8b12d20",
   "metadata": {},
   "outputs": [
    {
     "data": {
      "text/plain": [
       "{'a',\n",
       " 'about',\n",
       " 'animals',\n",
       " 'are',\n",
       " 'canine',\n",
       " 'catching',\n",
       " 'dogs',\n",
       " 'fun',\n",
       " 'furry',\n",
       " 'is',\n",
       " 'our',\n",
       " 'pets',\n",
       " 'popular',\n",
       " 'sport',\n",
       " 'story',\n",
       " 'surfing',\n",
       " 'this',\n",
       " 'water',\n",
       " 'waves'}"
      ]
     },
     "execution_count": 8,
     "metadata": {},
     "output_type": "execute_result"
    }
   ],
   "source": [
    "all_unique_word"
   ]
  },
  {
   "cell_type": "code",
   "execution_count": 9,
   "id": "10b30bce-13b5-4124-9332-92b15c91163e",
   "metadata": {},
   "outputs": [],
   "source": [
    "vocab_dict = {}\n",
    "i=0\n",
    "for words in all_unique_word :\n",
    "    vocab_dict[words]  =  i\n",
    "    i=i+1"
   ]
  },
  {
   "cell_type": "code",
   "execution_count": 10,
   "id": "eef9f0f3-5506-4974-9f88-46745455054b",
   "metadata": {},
   "outputs": [
    {
     "data": {
      "text/plain": [
       "{'about': 0,\n",
       " 'dogs': 1,\n",
       " 'pets': 2,\n",
       " 'is': 3,\n",
       " 'furry': 4,\n",
       " 'our': 5,\n",
       " 'fun': 6,\n",
       " 'water': 7,\n",
       " 'catching': 8,\n",
       " 'waves': 9,\n",
       " 'story': 10,\n",
       " 'canine': 11,\n",
       " 'surfing': 12,\n",
       " 'this': 13,\n",
       " 'a': 14,\n",
       " 'are': 15,\n",
       " 'popular': 16,\n",
       " 'animals': 17,\n",
       " 'sport': 18}"
      ]
     },
     "execution_count": 10,
     "metadata": {},
     "output_type": "execute_result"
    }
   ],
   "source": [
    "vocab_dict"
   ]
  },
  {
   "cell_type": "code",
   "execution_count": 11,
   "id": "6ede69cd-0ae7-477b-a227-2f2d1b93aca8",
   "metadata": {},
   "outputs": [],
   "source": [
    "one_words = [0]*len(vocab_dict)\n",
    "two_words = [0]*len(vocab_dict)\n",
    "all_words = ['']*len(vocab_dict)"
   ]
  },
  {
   "cell_type": "code",
   "execution_count": 12,
   "id": "716179d0-bc7c-41b6-9a04-0f1c4e6d8112",
   "metadata": {},
   "outputs": [],
   "source": [
    "with open(r'C:\\Users\\lenovo\\Desktop\\Notebooks\\18-Naive-Bayes-and-NLP\\One.txt') as f :\n",
    "    one_text = f.read().lower().split()\n",
    "        "
   ]
  },
  {
   "cell_type": "code",
   "execution_count": 13,
   "id": "7217877a-2f82-41cd-967e-432fa86fbddd",
   "metadata": {},
   "outputs": [
    {
     "data": {
      "text/plain": [
       "['this',\n",
       " 'is',\n",
       " 'a',\n",
       " 'story',\n",
       " 'about',\n",
       " 'dogs',\n",
       " 'our',\n",
       " 'canine',\n",
       " 'pets',\n",
       " 'dogs',\n",
       " 'are',\n",
       " 'furry',\n",
       " 'animals']"
      ]
     },
     "execution_count": 13,
     "metadata": {},
     "output_type": "execute_result"
    }
   ],
   "source": [
    "one_text"
   ]
  },
  {
   "cell_type": "code",
   "execution_count": 14,
   "id": "356d166c-4f97-4745-8d36-dae95f231651",
   "metadata": {},
   "outputs": [],
   "source": [
    "for word in one_text :\n",
    "    word_ind  =  vocab_dict[word]\n",
    "    one_words[word_ind]+=1"
   ]
  },
  {
   "cell_type": "code",
   "execution_count": 15,
   "id": "849e6d59-168b-4dac-8fe0-0475d5d5d209",
   "metadata": {},
   "outputs": [
    {
     "data": {
      "text/plain": [
       "[1, 2, 1, 1, 1, 1, 0, 0, 0, 0, 1, 1, 0, 1, 1, 1, 0, 1, 0]"
      ]
     },
     "execution_count": 15,
     "metadata": {},
     "output_type": "execute_result"
    }
   ],
   "source": [
    "one_words"
   ]
  },
  {
   "cell_type": "code",
   "execution_count": 17,
   "id": "f6eeffae-1878-4371-bf4d-8d0d00362c47",
   "metadata": {},
   "outputs": [],
   "source": [
    "with open(r'C:\\Users\\lenovo\\Desktop\\Notebooks\\18-Naive-Bayes-and-NLP\\Two.txt') as f :\n",
    "    two_text = f.read().lower().split()\n",
    "        "
   ]
  },
  {
   "cell_type": "code",
   "execution_count": 18,
   "id": "c6ee3118-7945-49a9-a00e-9c4a36f25815",
   "metadata": {},
   "outputs": [],
   "source": [
    "for word in two_text :\n",
    "    word_ind  =  vocab_dict[word]\n",
    "    two_words[word_ind]+=1"
   ]
  },
  {
   "cell_type": "code",
   "execution_count": 20,
   "id": "20b2e486-a6d3-455f-8c8a-1b2af0f7b2df",
   "metadata": {},
   "outputs": [],
   "source": [
    "for word in vocab_dict :\n",
    "    word_ind = vocab_dict[word]\n",
    "    all_words[word_ind] = word"
   ]
  },
  {
   "cell_type": "code",
   "execution_count": 21,
   "id": "aef3a87c-a8b8-480e-92c6-c6e7bbda4321",
   "metadata": {},
   "outputs": [
    {
     "data": {
      "text/plain": [
       "['about',\n",
       " 'dogs',\n",
       " 'pets',\n",
       " 'is',\n",
       " 'furry',\n",
       " 'our',\n",
       " 'fun',\n",
       " 'water',\n",
       " 'catching',\n",
       " 'waves',\n",
       " 'story',\n",
       " 'canine',\n",
       " 'surfing',\n",
       " 'this',\n",
       " 'a',\n",
       " 'are',\n",
       " 'popular',\n",
       " 'animals',\n",
       " 'sport']"
      ]
     },
     "execution_count": 21,
     "metadata": {},
     "output_type": "execute_result"
    }
   ],
   "source": [
    "all_words"
   ]
  },
  {
   "cell_type": "code",
   "execution_count": 22,
   "id": "b2b83d9a-4f59-4dc3-be57-439d01fe82ff",
   "metadata": {},
   "outputs": [],
   "source": [
    "import pandas as pd"
   ]
  },
  {
   "cell_type": "code",
   "execution_count": 23,
   "id": "64b7beb6-8cda-4adf-b5d0-3f0c0812489c",
   "metadata": {},
   "outputs": [],
   "source": [
    "bow = pd.DataFrame(data=[one_words,two_words],columns=all_words)"
   ]
  },
  {
   "cell_type": "code",
   "execution_count": 24,
   "id": "14ab5df5-1788-4298-8ac2-48025a394bea",
   "metadata": {},
   "outputs": [
    {
     "data": {
      "text/html": [
       "<div>\n",
       "<style scoped>\n",
       "    .dataframe tbody tr th:only-of-type {\n",
       "        vertical-align: middle;\n",
       "    }\n",
       "\n",
       "    .dataframe tbody tr th {\n",
       "        vertical-align: top;\n",
       "    }\n",
       "\n",
       "    .dataframe thead th {\n",
       "        text-align: right;\n",
       "    }\n",
       "</style>\n",
       "<table border=\"1\" class=\"dataframe\">\n",
       "  <thead>\n",
       "    <tr style=\"text-align: right;\">\n",
       "      <th></th>\n",
       "      <th>about</th>\n",
       "      <th>dogs</th>\n",
       "      <th>pets</th>\n",
       "      <th>is</th>\n",
       "      <th>furry</th>\n",
       "      <th>our</th>\n",
       "      <th>fun</th>\n",
       "      <th>water</th>\n",
       "      <th>catching</th>\n",
       "      <th>waves</th>\n",
       "      <th>story</th>\n",
       "      <th>canine</th>\n",
       "      <th>surfing</th>\n",
       "      <th>this</th>\n",
       "      <th>a</th>\n",
       "      <th>are</th>\n",
       "      <th>popular</th>\n",
       "      <th>animals</th>\n",
       "      <th>sport</th>\n",
       "    </tr>\n",
       "  </thead>\n",
       "  <tbody>\n",
       "    <tr>\n",
       "      <th>0</th>\n",
       "      <td>1</td>\n",
       "      <td>2</td>\n",
       "      <td>1</td>\n",
       "      <td>1</td>\n",
       "      <td>1</td>\n",
       "      <td>1</td>\n",
       "      <td>0</td>\n",
       "      <td>0</td>\n",
       "      <td>0</td>\n",
       "      <td>0</td>\n",
       "      <td>1</td>\n",
       "      <td>1</td>\n",
       "      <td>0</td>\n",
       "      <td>1</td>\n",
       "      <td>1</td>\n",
       "      <td>1</td>\n",
       "      <td>0</td>\n",
       "      <td>1</td>\n",
       "      <td>0</td>\n",
       "    </tr>\n",
       "    <tr>\n",
       "      <th>1</th>\n",
       "      <td>1</td>\n",
       "      <td>0</td>\n",
       "      <td>0</td>\n",
       "      <td>3</td>\n",
       "      <td>0</td>\n",
       "      <td>0</td>\n",
       "      <td>1</td>\n",
       "      <td>1</td>\n",
       "      <td>1</td>\n",
       "      <td>1</td>\n",
       "      <td>1</td>\n",
       "      <td>0</td>\n",
       "      <td>2</td>\n",
       "      <td>1</td>\n",
       "      <td>1</td>\n",
       "      <td>0</td>\n",
       "      <td>1</td>\n",
       "      <td>0</td>\n",
       "      <td>1</td>\n",
       "    </tr>\n",
       "  </tbody>\n",
       "</table>\n",
       "</div>"
      ],
      "text/plain": [
       "   about  dogs  pets  is  furry  our  fun  water  catching  waves  story  \\\n",
       "0      1     2     1   1      1    1    0      0         0      0      1   \n",
       "1      1     0     0   3      0    0    1      1         1      1      1   \n",
       "\n",
       "   canine  surfing  this  a  are  popular  animals  sport  \n",
       "0       1        0     1  1    1        0        1      0  \n",
       "1       0        2     1  1    0        1        0      1  "
      ]
     },
     "execution_count": 24,
     "metadata": {},
     "output_type": "execute_result"
    }
   ],
   "source": [
    "bow"
   ]
  },
  {
   "cell_type": "code",
   "execution_count": null,
   "id": "a75724cc-6c26-4ee7-9aa5-ec66bf3ea942",
   "metadata": {},
   "outputs": [],
   "source": []
  }
 ],
 "metadata": {
  "kernelspec": {
   "display_name": "Python 3 (ipykernel)",
   "language": "python",
   "name": "python3"
  },
  "language_info": {
   "codemirror_mode": {
    "name": "ipython",
    "version": 3
   },
   "file_extension": ".py",
   "mimetype": "text/x-python",
   "name": "python",
   "nbconvert_exporter": "python",
   "pygments_lexer": "ipython3",
   "version": "3.9.20"
  }
 },
 "nbformat": 4,
 "nbformat_minor": 5
}
